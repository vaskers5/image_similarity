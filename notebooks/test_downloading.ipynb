{
 "cells": [
  {
   "cell_type": "code",
   "execution_count": 1,
   "id": "b6bc89bd-6e5f-4fc9-a15c-fd05b48ea8c1",
   "metadata": {},
   "outputs": [],
   "source": [
    "import pandas as pd\n",
    "\n",
    "df = pd.read_csv('data/test_data.csv')"
   ]
  },
  {
   "cell_type": "code",
   "execution_count": 2,
   "id": "66540076-70c2-41ec-b6c9-818d62de86de",
   "metadata": {},
   "outputs": [],
   "source": [
    "urls = df['url'].iloc[:10000].to_list()\n",
    "ids = df['id'].iloc[:10000].to_list()"
   ]
  },
  {
   "cell_type": "code",
   "execution_count": 3,
   "id": "6779e5de-640d-4aea-8954-581fdefb70e0",
   "metadata": {},
   "outputs": [],
   "source": [
    "import requests\n",
    "import time\n",
    "import concurrent.futures\n",
    "from tqdm import tqdm\n",
    "\n",
    "path_load_dir = 'data/test_downloading'\n",
    "\n",
    "\n",
    "def download_image(img_url: str, img_id: int) -> str:\n",
    "    if img_url.startswith('ipfs://'):\n",
    "        img_url = img_url.replace('ipfs://', 'https://ipfs.io/ipfs/')\n",
    "    try:\n",
    "        data = requests.get(img_url, timeout=10).content\n",
    "    except:\n",
    "        return None\n",
    "    local_path = f'{path_load_dir}/{img_id}.jpg'\n",
    "    with open(local_path, 'wb') as img_file:\n",
    "        img_file.write(data)\n",
    "    return local_path\n",
    "    \n"
   ]
  },
  {
   "cell_type": "code",
   "execution_count": 4,
   "id": "3f618df5-bf24-4a97-981b-1d1c04605f63",
   "metadata": {},
   "outputs": [
    {
     "name": "stderr",
     "output_type": "stream",
     "text": [
      "100%|█████████████████████████████████████| 10000/10000 [09:28<00:00, 17.60it/s]"
     ]
    },
    {
     "name": "stdout",
     "output_type": "stream",
     "text": [
      "Finished in 568.1799468969984 seconds\n"
     ]
    },
    {
     "name": "stderr",
     "output_type": "stream",
     "text": [
      "\n"
     ]
    }
   ],
   "source": [
    "t1 = time.perf_counter()\n",
    "\n",
    "with concurrent.futures.ThreadPoolExecutor() as executor:\n",
    "    local_paths = list(tqdm(executor.map(download_image, urls, ids), total=len(urls)))\n",
    "\n",
    "t2 = time.perf_counter()\n",
    "\n",
    "print(f'Finished in {t2-t1} seconds')"
   ]
  },
  {
   "cell_type": "code",
   "execution_count": 9,
   "id": "d4568d9f-daa1-4dbc-b4fc-98ac1c788421",
   "metadata": {},
   "outputs": [
    {
     "data": {
      "text/plain": [
       "10000"
      ]
     },
     "execution_count": 9,
     "metadata": {},
     "output_type": "execute_result"
    }
   ],
   "source": [
    "len(local_paths)"
   ]
  },
  {
   "cell_type": "code",
   "execution_count": null,
   "id": "7f1370f5-853f-4290-8a1f-a7f3026746a6",
   "metadata": {},
   "outputs": [],
   "source": []
  }
 ],
 "metadata": {
  "kernelspec": {
   "display_name": "Python 3 (ipykernel)",
   "language": "python",
   "name": "python3"
  },
  "language_info": {
   "codemirror_mode": {
    "name": "ipython",
    "version": 3
   },
   "file_extension": ".py",
   "mimetype": "text/x-python",
   "name": "python",
   "nbconvert_exporter": "python",
   "pygments_lexer": "ipython3",
   "version": "3.9.12"
  }
 },
 "nbformat": 4,
 "nbformat_minor": 5
}
