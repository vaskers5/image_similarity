{
 "cells": [
  {
   "cell_type": "code",
   "execution_count": null,
   "id": "d0307fed-fb57-445f-ab3f-3ce447a8ef03",
   "metadata": {
    "pycharm": {
     "name": "#%%\n",
     "is_executing": true
    }
   },
   "outputs": [],
   "source": [
    "con_args = {'drivername': 'postgresql',\n",
    "            'host': '94.130.201.172',\n",
    "            'username': 'mlremoteuser',\n",
    "            'password': 'LJyRmZEfBae',\n",
    "            'database': 'checknft',\n",
    "            'port': 5432,}\n"
   ]
  },
  {
   "cell_type": "code",
   "execution_count": 2,
   "id": "5cf7ec68-b2f6-4c6d-837e-e444c9dd4b93",
   "metadata": {
    "pycharm": {
     "name": "#%%\n"
    }
   },
   "outputs": [
    {
     "name": "stderr",
     "output_type": "stream",
     "text": [
      "/tmp/ipykernel_32078/2559880968.py:3: SADeprecationWarning: Calling URL() directly is deprecated and will be disabled in a future release.  The public constructor for URL is now the URL.create() method.\n",
      "  engine  = create_engine(URL(**con_args))\n"
     ]
    }
   ],
   "source": [
    "from sqlalchemy import create_engine\n",
    "from sqlalchemy.engine.url import URL\n",
    "engine  = create_engine(URL(**con_args))"
   ]
  },
  {
   "cell_type": "code",
   "execution_count": 3,
   "id": "83e487f7-69bf-4808-b38e-a5df525888c2",
   "metadata": {
    "pycharm": {
     "name": "#%%\n"
    }
   },
   "outputs": [
    {
     "name": "stdout",
     "output_type": "stream",
     "text": [
      "aboba\n"
     ]
    }
   ],
   "source": [
    "sql = \"\"\"\n",
    "with token_data as (select t.id, \"name\", \"description\"\n",
    "    from token as t \n",
    "    limit 30000000),\n",
    "    t_d as (select id, \"imageUrl\", \"collectionId\"\n",
    "    from ml_token_img\n",
    "    limit 30000000)\n",
    "\n",
    "select td.id, \"name\", \"description\", \"imageUrl\", \"collectionId\"\n",
    "from token_data as td\n",
    "inner join t_d as td1\n",
    "on td.id=td1.id\n",
    "\n",
    "\"\"\"\n",
    "print('aboba')"
   ]
  },
  {
   "cell_type": "code",
   "execution_count": 4,
   "id": "52868076-1837-4e7f-ad32-64698d6bdabe",
   "metadata": {
    "pycharm": {
     "name": "#%%\n"
    }
   },
   "outputs": [],
   "source": [
    "import pandas as pd\n",
    "import psycopg2\n",
    "\n",
    "\n",
    "dat = pd.read_sql_query(sql, engine)"
   ]
  },
  {
   "cell_type": "code",
   "execution_count": 5,
   "id": "34e7a514-187d-4f83-9cd8-8d741e9979d6",
   "metadata": {
    "pycharm": {
     "name": "#%%\n"
    }
   },
   "outputs": [],
   "source": [
    "path = '/mnt/0806a469-d019-4d6a-be45-7cff5d66eb22/datasets/60m_tokens_set_1/30m_data.parquet.gzip'"
   ]
  },
  {
   "cell_type": "code",
   "execution_count": 6,
   "id": "3d10675d-accb-466d-b278-961ed410a7a6",
   "metadata": {
    "pycharm": {
     "name": "#%%\n"
    }
   },
   "outputs": [],
   "source": [
    "dat.to_parquet(path, index=False, compression='gzip')"
   ]
  },
  {
   "cell_type": "code",
   "execution_count": 8,
   "id": "0f06b0f3-4870-47cf-bd3d-cdb7b2ecc7d8",
   "metadata": {
    "pycharm": {
     "name": "#%%\n"
    }
   },
   "outputs": [
    {
     "name": "stdout",
     "output_type": "stream",
     "text": [
      "3,0G\t/mnt/0806a469-d019-4d6a-be45-7cff5d66eb22/datasets/60m_tokens_set_1\n"
     ]
    }
   ],
   "source": [
    "!du -sh /mnt/0806a469-d019-4d6a-be45-7cff5d66eb22/datasets/60m_tokens_set_1"
   ]
  },
  {
   "cell_type": "code",
   "execution_count": 10,
   "id": "fdbbaaf3-982b-40e6-a3b3-340ad867f286",
   "metadata": {
    "pycharm": {
     "name": "#%%\n"
    }
   },
   "outputs": [
    {
     "data": {
      "text/html": [
       "<div>\n",
       "<style scoped>\n",
       "    .dataframe tbody tr th:only-of-type {\n",
       "        vertical-align: middle;\n",
       "    }\n",
       "\n",
       "    .dataframe tbody tr th {\n",
       "        vertical-align: top;\n",
       "    }\n",
       "\n",
       "    .dataframe thead th {\n",
       "        text-align: right;\n",
       "    }\n",
       "</style>\n",
       "<table border=\"1\" class=\"dataframe\">\n",
       "  <thead>\n",
       "    <tr style=\"text-align: right;\">\n",
       "      <th></th>\n",
       "      <th>id</th>\n",
       "      <th>name</th>\n",
       "      <th>description</th>\n",
       "      <th>imageUrl</th>\n",
       "      <th>collectionId</th>\n",
       "    </tr>\n",
       "  </thead>\n",
       "  <tbody>\n",
       "    <tr>\n",
       "      <th>0</th>\n",
       "      <td>73143970</td>\n",
       "      <td></td>\n",
       "      <td></td>\n",
       "      <td></td>\n",
       "      <td>3133576</td>\n",
       "    </tr>\n",
       "    <tr>\n",
       "      <th>1</th>\n",
       "      <td>73144166</td>\n",
       "      <td></td>\n",
       "      <td></td>\n",
       "      <td></td>\n",
       "      <td>3133576</td>\n",
       "    </tr>\n",
       "    <tr>\n",
       "      <th>2</th>\n",
       "      <td>73145746</td>\n",
       "      <td></td>\n",
       "      <td></td>\n",
       "      <td></td>\n",
       "      <td>3133576</td>\n",
       "    </tr>\n",
       "    <tr>\n",
       "      <th>3</th>\n",
       "      <td>73144573</td>\n",
       "      <td></td>\n",
       "      <td></td>\n",
       "      <td></td>\n",
       "      <td>3133576</td>\n",
       "    </tr>\n",
       "    <tr>\n",
       "      <th>4</th>\n",
       "      <td>73147209</td>\n",
       "      <td></td>\n",
       "      <td></td>\n",
       "      <td></td>\n",
       "      <td>3133576</td>\n",
       "    </tr>\n",
       "    <tr>\n",
       "      <th>...</th>\n",
       "      <td>...</td>\n",
       "      <td>...</td>\n",
       "      <td>...</td>\n",
       "      <td>...</td>\n",
       "      <td>...</td>\n",
       "    </tr>\n",
       "    <tr>\n",
       "      <th>29999995</th>\n",
       "      <td>57034389</td>\n",
       "      <td>Landscapes — 011100010011001111111100111001010...</td>\n",
       "      <td>We've created unique \"Quantum AI Data Painting...</td>\n",
       "      <td>https://arweave.net/Vv9AsrhQVnGFkG0JUCYwE0Kqx1...</td>\n",
       "      <td>773</td>\n",
       "    </tr>\n",
       "    <tr>\n",
       "      <th>29999996</th>\n",
       "      <td>57095977</td>\n",
       "      <td>Rabbit #629</td>\n",
       "      <td>The metaverse mainland is full of creatures. A...</td>\n",
       "      <td>data:image/svg+xml;base64,PHN2ZyB3aWR0aD0iMTAw...</td>\n",
       "      <td>750</td>\n",
       "    </tr>\n",
       "    <tr>\n",
       "      <th>29999997</th>\n",
       "      <td>57095810</td>\n",
       "      <td>Rabbit #473</td>\n",
       "      <td>The metaverse mainland is full of creatures. A...</td>\n",
       "      <td>data:image/svg+xml;base64,PHN2ZyB3aWR0aD0iMTAw...</td>\n",
       "      <td>750</td>\n",
       "    </tr>\n",
       "    <tr>\n",
       "      <th>29999998</th>\n",
       "      <td>57104952</td>\n",
       "      <td>#1486</td>\n",
       "      <td>Ancient Cats Club is a collection of unique Ca...</td>\n",
       "      <td>ipfs://QmUE1YQ3kc88RkaSNZMByJh4y1f4nZqj44V9KSC...</td>\n",
       "      <td>803</td>\n",
       "    </tr>\n",
       "    <tr>\n",
       "      <th>29999999</th>\n",
       "      <td>57214007</td>\n",
       "      <td>Mutant Sack #900</td>\n",
       "      <td></td>\n",
       "      <td>https://ipfs.io/ipfs/QmSW2aCo9BocZskUL982EbSKk...</td>\n",
       "      <td>770</td>\n",
       "    </tr>\n",
       "  </tbody>\n",
       "</table>\n",
       "<p>30000000 rows × 5 columns</p>\n",
       "</div>"
      ],
      "text/plain": [
       "                id                                               name  \\\n",
       "0         73143970                                                      \n",
       "1         73144166                                                      \n",
       "2         73145746                                                      \n",
       "3         73144573                                                      \n",
       "4         73147209                                                      \n",
       "...            ...                                                ...   \n",
       "29999995  57034389  Landscapes — 011100010011001111111100111001010...   \n",
       "29999996  57095977                                        Rabbit #629   \n",
       "29999997  57095810                                        Rabbit #473   \n",
       "29999998  57104952                                              #1486   \n",
       "29999999  57214007                                   Mutant Sack #900   \n",
       "\n",
       "                                                description  \\\n",
       "0                                                             \n",
       "1                                                             \n",
       "2                                                             \n",
       "3                                                             \n",
       "4                                                             \n",
       "...                                                     ...   \n",
       "29999995  We've created unique \"Quantum AI Data Painting...   \n",
       "29999996  The metaverse mainland is full of creatures. A...   \n",
       "29999997  The metaverse mainland is full of creatures. A...   \n",
       "29999998  Ancient Cats Club is a collection of unique Ca...   \n",
       "29999999                                                      \n",
       "\n",
       "                                                   imageUrl  collectionId  \n",
       "0                                                                 3133576  \n",
       "1                                                                 3133576  \n",
       "2                                                                 3133576  \n",
       "3                                                                 3133576  \n",
       "4                                                                 3133576  \n",
       "...                                                     ...           ...  \n",
       "29999995  https://arweave.net/Vv9AsrhQVnGFkG0JUCYwE0Kqx1...           773  \n",
       "29999996  data:image/svg+xml;base64,PHN2ZyB3aWR0aD0iMTAw...           750  \n",
       "29999997  data:image/svg+xml;base64,PHN2ZyB3aWR0aD0iMTAw...           750  \n",
       "29999998  ipfs://QmUE1YQ3kc88RkaSNZMByJh4y1f4nZqj44V9KSC...           803  \n",
       "29999999  https://ipfs.io/ipfs/QmSW2aCo9BocZskUL982EbSKk...           770  \n",
       "\n",
       "[30000000 rows x 5 columns]"
      ]
     },
     "execution_count": 10,
     "metadata": {},
     "output_type": "execute_result"
    }
   ],
   "source": [
    "dat.dropna(subset='imageUrl')"
   ]
  },
  {
   "cell_type": "code",
   "execution_count": null,
   "id": "40880686-9d49-42a8-b0f4-438e904c24fb",
   "metadata": {
    "pycharm": {
     "name": "#%%\n"
    }
   },
   "outputs": [],
   "source": []
  }
 ],
 "metadata": {
  "kernelspec": {
   "display_name": "Python 3 (ipykernel)",
   "language": "python",
   "name": "python3"
  },
  "language_info": {
   "codemirror_mode": {
    "name": "ipython",
    "version": 3
   },
   "file_extension": ".py",
   "mimetype": "text/x-python",
   "name": "python",
   "nbconvert_exporter": "python",
   "pygments_lexer": "ipython3",
   "version": "3.9.12"
  }
 },
 "nbformat": 4,
 "nbformat_minor": 5
}