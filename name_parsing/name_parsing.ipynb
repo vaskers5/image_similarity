{
 "cells": [
  {
   "cell_type": "code",
   "execution_count": 1,
   "id": "8c5aab8f-32e6-4093-a966-03648ad289fa",
   "metadata": {},
   "outputs": [],
   "source": [
    "import pandas as pd"
   ]
  },
  {
   "cell_type": "code",
   "execution_count": 2,
   "id": "87c21075-6e4f-4952-8286-ed1d5f4e738d",
   "metadata": {},
   "outputs": [],
   "source": [
    "df = pd.read_csv('data/checknft_collections.csv').dropna(subset=['name'])"
   ]
  },
  {
   "cell_type": "code",
   "execution_count": 3,
   "id": "76b65457-4cf9-49a0-aef6-3e82363a7b52",
   "metadata": {},
   "outputs": [],
   "source": [
    "full_names_ds = df['name'].to_list()"
   ]
  },
  {
   "cell_type": "code",
   "execution_count": 4,
   "id": "9ab65a70-5147-4b69-826f-1fb7d4efc681",
   "metadata": {},
   "outputs": [],
   "source": [
    "from datasketch import MinHashLSHForest, MinHash\n",
    "from multiprocessing import Pool\n",
    "\n",
    "\n",
    "def get_minhash(name: str) -> MinHash:\n",
    "    m_hash = MinHash(num_perm=128)\n",
    "    for d in name.split():\n",
    "        m_hash.update(d.encode('utf8'))\n",
    "    return m_hash\n",
    "\n",
    "forest = MinHashLSHForest(num_perm=128)\n",
    "\n",
    "\n",
    "    \n",
    "\n",
    "    \n"
   ]
  },
  {
   "cell_type": "code",
   "execution_count": 5,
   "id": "b5a97fff-6255-4d94-9c1b-4ee71502227e",
   "metadata": {},
   "outputs": [
    {
     "name": "stderr",
     "output_type": "stream",
     "text": [
      "100%|██████████████████████████████| 669877/669877 [00:00<00:00, 3932091.03it/s]\n"
     ]
    }
   ],
   "source": [
    "from tqdm.notebook import tqdm_notebook\n",
    "from tqdm import tqdm\n",
    "\n",
    "with Pool() as pool:\n",
    "    hash_values = list(tqdm(pool.map(get_minhash, full_names_ds),\n",
    "                            total=len(full_names_ds)))"
   ]
  },
  {
   "cell_type": "code",
   "execution_count": 6,
   "id": "895b6748-5040-4aaa-a353-48cc128402d4",
   "metadata": {
    "tags": []
   },
   "outputs": [],
   "source": [
    "result = []\n",
    "\n",
    "for  idx, name, hash_value in zip(list(range(len(full_names_ds))), full_names_ds, hash_values):\n",
    "    try:\n",
    "        forest.add(name, hash_value)\n",
    "    except ValueError:\n",
    "        result += [(idx, name)]\n"
   ]
  },
  {
   "cell_type": "code",
   "execution_count": 7,
   "id": "f8401f71-70ee-44ea-81ba-cf0a92c0cad3",
   "metadata": {},
   "outputs": [],
   "source": [
    "import pickle\n",
    "\n",
    "with open('checkpoints/tree_db_words_data.pt', 'wb') as f:\n",
    "    f.write(pickle.dumps(forest))"
   ]
  },
  {
   "cell_type": "code",
   "execution_count": 8,
   "id": "4aa38b61-702f-4ec8-bbb0-f6456617aa63",
   "metadata": {},
   "outputs": [],
   "source": [
    "forest.index()"
   ]
  },
  {
   "cell_type": "code",
   "execution_count": 9,
   "id": "9cb47767-7479-46c5-acea-fff21b9e18e5",
   "metadata": {},
   "outputs": [
    {
     "data": {
      "application/vnd.jupyter.widget-view+json": {
       "model_id": "78dded9e69904702a290c58784f98814",
       "version_major": 2,
       "version_minor": 0
      },
      "text/plain": [
       "  0%|          | 0/669877 [00:00<?, ?it/s]"
      ]
     },
     "metadata": {},
     "output_type": "display_data"
    }
   ],
   "source": [
    "for idx, hash_value in enumerate(tqdm_notebook(hash_values)):\n",
    "    res = forest.query(hash_value, 5)\n",
    "    if res:\n",
    "        result += [(res, full_names_ds[idx])]"
   ]
  },
  {
   "cell_type": "code",
   "execution_count": 19,
   "id": "8707daa1-6156-4d23-9ef4-41d4bcce7c19",
   "metadata": {},
   "outputs": [],
   "source": [
    "clear_result = [res for res in result if len(res) > 1]"
   ]
  },
  {
   "cell_type": "code",
   "execution_count": 27,
   "id": "9dd91447-aff9-4da6-af90-bb50669f6f39",
   "metadata": {},
   "outputs": [
    {
     "data": {
      "text/plain": [
       "(['HashGarage Specials Minter',\n",
       "  'OSUVOX Minter',\n",
       "  'Letter Letter Letter Minter',\n",
       "  'HashGarage Minter',\n",
       "  'BONK Minter'],\n",
       " 'HashGarage Minter')"
      ]
     },
     "execution_count": 27,
     "metadata": {},
     "output_type": "execute_result"
    }
   ],
   "source": [
    "result[200000]"
   ]
  },
  {
   "cell_type": "code",
   "execution_count": 28,
   "id": "79d10ccb-7ad7-40c1-b882-7a47635a042b",
   "metadata": {},
   "outputs": [
    {
     "data": {
      "text/html": [
       "<div>\n",
       "<style scoped>\n",
       "    .dataframe tbody tr th:only-of-type {\n",
       "        vertical-align: middle;\n",
       "    }\n",
       "\n",
       "    .dataframe tbody tr th {\n",
       "        vertical-align: top;\n",
       "    }\n",
       "\n",
       "    .dataframe thead th {\n",
       "        text-align: right;\n",
       "    }\n",
       "</style>\n",
       "<table border=\"1\" class=\"dataframe\">\n",
       "  <thead>\n",
       "    <tr style=\"text-align: right;\">\n",
       "      <th></th>\n",
       "      <th>id</th>\n",
       "      <th>name</th>\n",
       "      <th>description</th>\n",
       "    </tr>\n",
       "  </thead>\n",
       "  <tbody>\n",
       "    <tr>\n",
       "      <th>0</th>\n",
       "      <td>3613240</td>\n",
       "      <td>KidsInNFT Genesis</td>\n",
       "      <td>KidsInNFT are hand drawn by Rayka who recently...</td>\n",
       "    </tr>\n",
       "    <tr>\n",
       "      <th>1</th>\n",
       "      <td>3613329</td>\n",
       "      <td>Over the rainbow stories</td>\n",
       "      <td>NaN</td>\n",
       "    </tr>\n",
       "    <tr>\n",
       "      <th>2</th>\n",
       "      <td>20506357</td>\n",
       "      <td>I AM Sophie the 1st</td>\n",
       "      <td>NaN</td>\n",
       "    </tr>\n",
       "    <tr>\n",
       "      <th>3</th>\n",
       "      <td>20506387</td>\n",
       "      <td>TheAbstractions</td>\n",
       "      <td>NaN</td>\n",
       "    </tr>\n",
       "    <tr>\n",
       "      <th>4</th>\n",
       "      <td>3613498</td>\n",
       "      <td>Logan and Laura</td>\n",
       "      <td>First NFTs of Logan and Laura. \\nLogan and Lau...</td>\n",
       "    </tr>\n",
       "    <tr>\n",
       "      <th>...</th>\n",
       "      <td>...</td>\n",
       "      <td>...</td>\n",
       "      <td>...</td>\n",
       "    </tr>\n",
       "    <tr>\n",
       "      <th>681108</th>\n",
       "      <td>1951149</td>\n",
       "      <td>Chibi Monkey</td>\n",
       "      <td>A growing collection of individually customise...</td>\n",
       "    </tr>\n",
       "    <tr>\n",
       "      <th>681109</th>\n",
       "      <td>3937072</td>\n",
       "      <td>NyanFrndz</td>\n",
       "      <td>NyanFrndz is an NFT collections of 3333 unique...</td>\n",
       "    </tr>\n",
       "    <tr>\n",
       "      <th>681110</th>\n",
       "      <td>1588804</td>\n",
       "      <td>Portrait Studio by Daniel Gordon</td>\n",
       "      <td>Assembly presents *Portrait Studio* by Daniel ...</td>\n",
       "    </tr>\n",
       "    <tr>\n",
       "      <th>681111</th>\n",
       "      <td>1590583</td>\n",
       "      <td>Dragon Hide</td>\n",
       "      <td>An Ai curated NFT rare collection of Dragon sc...</td>\n",
       "    </tr>\n",
       "    <tr>\n",
       "      <th>681112</th>\n",
       "      <td>1637485</td>\n",
       "      <td>SQUID GAME SEASON#1</td>\n",
       "      <td>Welcome to the Squid Game! WIN 40% OF TOTAL AM...</td>\n",
       "    </tr>\n",
       "  </tbody>\n",
       "</table>\n",
       "<p>669877 rows × 3 columns</p>\n",
       "</div>"
      ],
      "text/plain": [
       "              id                              name  \\\n",
       "0        3613240                 KidsInNFT Genesis   \n",
       "1        3613329          Over the rainbow stories   \n",
       "2       20506357               I AM Sophie the 1st   \n",
       "3       20506387                   TheAbstractions   \n",
       "4        3613498                   Logan and Laura   \n",
       "...          ...                               ...   \n",
       "681108   1951149                      Chibi Monkey   \n",
       "681109   3937072                         NyanFrndz   \n",
       "681110   1588804  Portrait Studio by Daniel Gordon   \n",
       "681111   1590583                       Dragon Hide   \n",
       "681112   1637485               SQUID GAME SEASON#1   \n",
       "\n",
       "                                              description  \n",
       "0       KidsInNFT are hand drawn by Rayka who recently...  \n",
       "1                                                     NaN  \n",
       "2                                                     NaN  \n",
       "3                                                     NaN  \n",
       "4       First NFTs of Logan and Laura. \\nLogan and Lau...  \n",
       "...                                                   ...  \n",
       "681108  A growing collection of individually customise...  \n",
       "681109  NyanFrndz is an NFT collections of 3333 unique...  \n",
       "681110  Assembly presents *Portrait Studio* by Daniel ...  \n",
       "681111  An Ai curated NFT rare collection of Dragon sc...  \n",
       "681112  Welcome to the Squid Game! WIN 40% OF TOTAL AM...  \n",
       "\n",
       "[669877 rows x 3 columns]"
      ]
     },
     "execution_count": 28,
     "metadata": {},
     "output_type": "execute_result"
    }
   ],
   "source": [
    "df"
   ]
  },
  {
   "cell_type": "code",
   "execution_count": null,
   "id": "d6d7a177-7061-42f5-96a2-9b6a9ad0811f",
   "metadata": {},
   "outputs": [],
   "source": []
  }
 ],
 "metadata": {
  "kernelspec": {
   "display_name": "Python 3 (ipykernel)",
   "language": "python",
   "name": "python3"
  },
  "language_info": {
   "codemirror_mode": {
    "name": "ipython",
    "version": 3
   },
   "file_extension": ".py",
   "mimetype": "text/x-python",
   "name": "python",
   "nbconvert_exporter": "python",
   "pygments_lexer": "ipython3",
   "version": "3.9.12"
  }
 },
 "nbformat": 4,
 "nbformat_minor": 5
}
